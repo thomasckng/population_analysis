{
 "cells": [
  {
   "cell_type": "code",
   "execution_count": null,
   "metadata": {},
   "outputs": [],
   "source": [
    "import numpy as np\n",
    "from tqdm import tqdm\n",
    "from figaro.mixture import DPGMM, HDPGMM\n",
    "from figaro.plot import plot_median_cr\n",
    "from figaro.utils import get_priors\n",
    "import os"
   ]
  },
  {
   "cell_type": "code",
   "execution_count": null,
   "metadata": {},
   "outputs": [],
   "source": [
    "single_event_posteriors = [np.loadtxt('experiments/'+filename) for filename in os.listdir('experiments') if filename.endswith('.txt')]\n",
    "all_samples = np.concatenate(single_event_posteriors, axis=0)"
   ]
  },
  {
   "cell_type": "code",
   "execution_count": null,
   "metadata": {},
   "outputs": [],
   "source": [
    "n_draws = 10\n",
    "x_min = 6.665\n",
    "x_max = 6.685\n",
    "\n",
    "posteriors = []\n",
    "for experiment in tqdm(single_event_posteriors, desc = 'Experiments'):\n",
    "    mix = DPGMM([[x_min, x_max]], prior_pars=get_priors([[x_min, x_max]], experiment, hierarchical=False))\n",
    "    draws = []\n",
    "    for _ in range(n_draws):\n",
    "        draws.append(mix.density_from_samples(experiment))\n",
    "    posteriors.append(draws)"
   ]
  },
  {
   "cell_type": "code",
   "execution_count": null,
   "metadata": {},
   "outputs": [],
   "source": [
    "n_draws_hier = 100\n",
    "hier_mix = HDPGMM([[x_min, x_max]], prior_pars=get_priors([[x_min, x_max]], all_samples, hierarchical=True))\n",
    "\n",
    "hier_draws = []\n",
    "\n",
    "for _ in tqdm(range(n_draws_hier)):\n",
    "    hier_draws.append(hier_mix.density_from_samples(posteriors))"
   ]
  },
  {
   "cell_type": "code",
   "execution_count": null,
   "metadata": {},
   "outputs": [],
   "source": [
    "plot_median_cr(hier_draws,\n",
    "               samples = all_samples,\n",
    "               show = False,\n",
    "               hierarchical = False,\n",
    "               save = True\n",
    "               )"
   ]
  }
 ],
 "metadata": {
  "kernelspec": {
   "display_name": "Python 3 (ipykernel)",
   "language": "python",
   "name": "python3"
  }
 },
 "nbformat": 4,
 "nbformat_minor": 2
}
