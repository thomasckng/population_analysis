{
 "cells": [
  {
   "cell_type": "code",
   "execution_count": 1,
   "metadata": {},
   "outputs": [],
   "source": [
    "import numpy as np\n",
    "import matplotlib.pyplot as plt\n",
    "from tqdm import tqdm\n",
    "from scipy.stats import norm\n",
    "from figaro.utils import rejection_sampler\n",
    "from figaro.cosmology import CosmologicalParameters\n",
    "from figaro.load import _find_redshift\n",
    "from figaro import plot_settings"
   ]
  },
  {
   "cell_type": "code",
   "execution_count": 2,
   "metadata": {},
   "outputs": [],
   "source": [
    "true_H0 = 40. # km/s/Mpc (Deliberately off value)\n",
    "omega = CosmologicalParameters(true_H0/100., 0.315, 0.685, -1., 0.)\n",
    "n_draws_set = 1\n",
    "n_draws_event = 2000\n",
    "norm_dist = norm()"
   ]
  },
  {
   "cell_type": "code",
   "execution_count": 15,
   "metadata": {},
   "outputs": [],
   "source": [
    "# Mass distribution\n",
    "def evolving_gaussian(m, dL):\n",
    "    mu  = mean(dL)\n",
    "    sigma = std(dL)\n",
    "    return np.exp(-0.5 * ((m - mu) / sigma) ** 2) / (np.sqrt(2 * np.pi) * sigma)\n",
    "\n",
    "def mean(dL, dMddL = 30./1000., offset = 5.):\n",
    "    return dL*dMddL + offset\n",
    "\n",
    "def std(dL, dMddL = 8./1000., offset = 1.):\n",
    "    return dL*dMddL + offset\n",
    "\n",
    "# dL distribution\n",
    "def gaussian(dL, mu = 1600, sigma = 400):\n",
    "    return np.exp(-0.5 * ((dL - mu) / sigma) ** 2) / (np.sqrt(2 * np.pi) * sigma)\n",
    "\n",
    "# Generate samples from double gaussian distribution\n",
    "def generate_event_parameters_double_gaussian(n_draws_set, n_draws_event):\n",
    "    event_param_list = []\n",
    "    for _ in tqdm(range(n_draws_set)):\n",
    "        dL = rejection_sampler(n_draws_event, gaussian, [0, 5000])\n",
    "        M  = np.array([mean(d) + std(d) * norm_dist.rvs() for d in dL])\n",
    "        z  = np.array([_find_redshift(omega, d) for d in dL])\n",
    "        Mz = M * (1 + z)\n",
    "        event_param_list.append([Mz, dL])\n",
    "    return np.array(event_param_list[0])"
   ]
  },
  {
   "cell_type": "code",
   "execution_count": 16,
   "metadata": {},
   "outputs": [],
   "source": [
    "# Mass distribution\n",
    "def PLpeak(m, alpha = -2., mmin = 5., mmax = 70., mu = 30., sigma = 4., w = 0.2):\n",
    "    norm_pl = (1 - alpha) / (mmin ** (alpha + 1) - mmax ** (alpha + 1))\n",
    "    pl      = norm_pl * m ** alpha\n",
    "    peak    = np.exp(-0.5 * ((m - mu) / sigma) ** 2) / (np.sqrt(2 * np.pi) * sigma)\n",
    "    return w * pl + (1 - w) * peak\n",
    "\n",
    "# dL distribution\n",
    "def dLsq(dL, dLmax = 5000):\n",
    "    return 3 * dL ** 2 / dLmax ** 3\n",
    "\n",
    "# Generate samples from realistic distribution\n",
    "def generate_event_parameters_realistic(n_draws_set, n_draws_event):\n",
    "    event_param_list = []\n",
    "    for _ in tqdm(range(n_draws_set)):\n",
    "        dL = rejection_sampler(n_draws_event, dLsq, [0, 5000])\n",
    "        M  = rejection_sampler(n_draws_event, PLpeak, [5,70])\n",
    "        z  = np.array([_find_redshift(omega, d) for d in dL])\n",
    "        Mz = M * (1 + z)\n",
    "        event_param_list.append([Mz, dL])\n",
    "    return np.array(event_param_list[0])"
   ]
  },
  {
   "cell_type": "code",
   "execution_count": 39,
   "metadata": {},
   "outputs": [],
   "source": [
    "def generate_event_posterior_samples(event_param, Mz_measure_uncer = 5, dL_measure_uncer = 50):\n",
    "    Mz, dL = event_param\n",
    "    Mz_obs_mean = Mz + Mz_measure_uncer * norm_dist.rvs()\n",
    "    dL_obs_mean = dL + dL_measure_uncer * norm_dist.rvs()\n",
    "    Mz_samples = np.random.normal(Mz_obs_mean, Mz_measure_uncer, 1000)\n",
    "    dL_samples = np.random.normal(dL_obs_mean, dL_measure_uncer, 1000)\n",
    "    return np.array([Mz_samples, dL_samples])"
   ]
  },
  {
   "cell_type": "code",
   "execution_count": null,
   "metadata": {},
   "outputs": [],
   "source": []
  }
 ],
 "metadata": {
  "kernelspec": {
   "display_name": "population",
   "language": "python",
   "name": "python3"
  },
  "language_info": {
   "codemirror_mode": {
    "name": "ipython",
    "version": 3
   },
   "file_extension": ".py",
   "mimetype": "text/x-python",
   "name": "python",
   "nbconvert_exporter": "python",
   "pygments_lexer": "ipython3",
   "version": "3.9.16"
  }
 },
 "nbformat": 4,
 "nbformat_minor": 2
}
