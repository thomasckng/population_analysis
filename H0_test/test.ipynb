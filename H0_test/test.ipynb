{
 "cells": [
  {
   "cell_type": "code",
   "execution_count": 14,
   "metadata": {},
   "outputs": [],
   "source": [
    "import numpy as np\n",
    "import matplotlib.pyplot as plt"
   ]
  },
  {
   "cell_type": "code",
   "execution_count": 15,
   "metadata": {},
   "outputs": [],
   "source": [
    "plt.rcParams.update({\n",
    "    \"text.usetex\": True,\n",
    "    \"font.family\": \"serif\",\n",
    "    \"font.serif\": [\"Computer Modern Roman\"],\n",
    "})"
   ]
  },
  {
   "cell_type": "code",
   "execution_count": 32,
   "metadata": {},
   "outputs": [],
   "source": [
    "# Mass distributions\n",
    "def mean(DL, dMdDL = 30./1000., offset = 5.):\n",
    "    return DL*dMdDL + offset\n",
    "\n",
    "def std(DL, dMdDL = 8./1000., offset = 1.):\n",
    "    return DL*dMdDL + offset\n",
    "\n",
    "def PLpeak(m, alpha = -2., mmin = 5., mmax = 70., mu = 30., sigma = 4., w = 0.2):\n",
    "    norm_pl = (1-alpha)/(mmin**(alpha+1) - mmax**(alpha+1))\n",
    "    pl      = norm_pl * m**alpha\n",
    "    peak    = np.exp(-0.5*((m-mu)/sigma)**2)/(np.sqrt(2*np.pi)*sigma)\n",
    "    return w*pl + (1-w)*peak\n",
    "\n",
    "def evolving_gaussian(m, DL):\n",
    "    mu = mean(DL)\n",
    "    sigma = std(DL)\n",
    "    return np.exp(-0.5*((m-mu)/sigma)**2)/(np.sqrt(2*np.pi)*sigma)\n",
    "\n",
    "# DL distributions\n",
    "def DLsq(DL, DLmax = 5000):\n",
    "    return 3*DL**2/DLmax**3\n",
    "\n",
    "def gaussian(DL, mu = 1600, sigma = 400):\n",
    "    return np.exp(-0.5*((DL-mu)/sigma)**2)/(np.sqrt(2*np.pi)*sigma)"
   ]
  },
  {
   "cell_type": "code",
   "execution_count": 54,
   "metadata": {},
   "outputs": [],
   "source": [
    "m = np.linspace(10,200,1000).reshape(-1,1)\n",
    "dL = np.linspace(10,5000,100)"
   ]
  },
  {
   "cell_type": "code",
   "execution_count": 57,
   "metadata": {},
   "outputs": [
    {
     "data": {
      "text/plain": [
       "array([[1.05391689e-11, 1.61616421e-08, 1.38987886e-07, ...,\n",
       "        3.26493769e-23, 1.12563816e-23, 3.82061165e-24],\n",
       "       [4.82216401e-12, 1.21681814e-08, 1.26437373e-07, ...,\n",
       "        3.31993050e-23, 1.14441962e-23, 3.88376571e-24],\n",
       "       [2.13899260e-12, 9.01208221e-09, 1.13856981e-07, ...,\n",
       "        3.37577399e-23, 1.16348893e-23, 3.94787875e-24],\n",
       "       ...,\n",
       "       [0.00000000e+00, 0.00000000e+00, 0.00000000e+00, ...,\n",
       "        8.28223672e-21, 3.04581617e-21, 1.09877166e-21],\n",
       "       [0.00000000e+00, 0.00000000e+00, 0.00000000e+00, ...,\n",
       "        8.23581979e-21, 3.02961132e-21, 1.09322694e-21],\n",
       "       [0.00000000e+00, 0.00000000e+00, 0.00000000e+00, ...,\n",
       "        8.18947963e-21, 3.01342654e-21, 1.08768678e-21]])"
      ]
     },
     "execution_count": 57,
     "metadata": {},
     "output_type": "execute_result"
    }
   ],
   "source": [
    "np.einsum(\"ij, j -> ij\", evolving_gaussian(m, dL), gaussian(dL))"
   ]
  },
  {
   "cell_type": "code",
   "execution_count": 58,
   "metadata": {},
   "outputs": [
    {
     "data": {
      "text/plain": [
       "array([[7.75391752e-11, 2.82913164e-09, 9.52059394e-09, ...,\n",
       "        1.86110160e-05, 1.89959350e-05, 1.93847938e-05],\n",
       "       [7.46720129e-11, 2.72451898e-09, 9.16855141e-09, ...,\n",
       "        1.79228374e-05, 1.82935232e-05, 1.86680032e-05],\n",
       "       [7.19610582e-11, 2.62560578e-09, 8.83568871e-09, ...,\n",
       "        1.72721518e-05, 1.76293800e-05, 1.79902645e-05],\n",
       "       ...,\n",
       "       [1.94585615e-13, 7.09974436e-12, 2.38920601e-11, ...,\n",
       "        4.67045979e-08, 4.76705573e-08, 4.86464039e-08],\n",
       "       [1.94215357e-13, 7.08623492e-12, 2.38465981e-11, ...,\n",
       "        4.66157281e-08, 4.75798495e-08, 4.85538392e-08],\n",
       "       [1.93846154e-13, 7.07276400e-12, 2.38012658e-11, ...,\n",
       "        4.65271118e-08, 4.74894003e-08, 4.84615385e-08]])"
      ]
     },
     "execution_count": 58,
     "metadata": {},
     "output_type": "execute_result"
    }
   ],
   "source": [
    "np.einsum(\"ij, j -> ij\", PLpeak(m), DLsq(dL))"
   ]
  },
  {
   "cell_type": "code",
   "execution_count": null,
   "metadata": {},
   "outputs": [],
   "source": []
  }
 ],
 "metadata": {
  "kernelspec": {
   "display_name": "population",
   "language": "python",
   "name": "python3"
  },
  "language_info": {
   "codemirror_mode": {
    "name": "ipython",
    "version": 3
   },
   "file_extension": ".py",
   "mimetype": "text/x-python",
   "name": "python",
   "nbconvert_exporter": "python",
   "pygments_lexer": "ipython3",
   "version": "3.9.16"
  }
 },
 "nbformat": 4,
 "nbformat_minor": 2
}
