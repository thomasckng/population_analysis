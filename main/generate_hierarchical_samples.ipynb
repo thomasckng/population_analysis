{
 "cells": [
  {
   "cell_type": "code",
   "execution_count": 3,
   "metadata": {},
   "outputs": [],
   "source": [
    "import numpy as np\n",
    "import matplotlib.pyplot as plt\n",
    "from tqdm import tqdm\n",
    "from scipy.stats import norm\n",
    "from figaro.utils import rejection_sampler\n",
    "from figaro.cosmology import CosmologicalParameters\n",
    "from figaro import plot_settings"
   ]
  },
  {
   "cell_type": "code",
   "execution_count": 4,
   "metadata": {},
   "outputs": [],
   "source": [
    "true_H0 = 70. # km/s/Mpc\n",
    "Omega = CosmologicalParameters(true_H0/100., 0.315, 0.685, -1., 0., 0.)\n",
    "norm_dist = norm()"
   ]
  },
  {
   "cell_type": "code",
   "execution_count": 5,
   "metadata": {},
   "outputs": [],
   "source": [
    "# Mass distribution\n",
    "from population_models.mass import plpeak\n",
    "\n",
    "# dL distributions\n",
    "# @njit\n",
    "def dLsq(DL, DLmax = 5000):\n",
    "    return 3*DL**2/DLmax**3"
   ]
  },
  {
   "cell_type": "code",
   "execution_count": 6,
   "metadata": {},
   "outputs": [],
   "source": [
    "def selection_function(x):\n",
    "    p = x/100\n",
    "    p[x>100]=1\n",
    "    return p\n"
   ]
  },
  {
   "cell_type": "code",
   "execution_count": 7,
   "metadata": {},
   "outputs": [],
   "source": [
    "# Generate true detector frame mass samples\n",
    "def generate_true_mz(n_draws_event):\n",
    "    dL = rejection_sampler(n_draws_event, dLsq, [0, 5000])\n",
    "    M  = rejection_sampler(n_draws_event, plpeak, [0,200])\n",
    "    z  = Omega.Redshift(dL)\n",
    "    return M * (1 + z)"
   ]
  },
  {
   "cell_type": "code",
   "execution_count": 12,
   "metadata": {},
   "outputs": [],
   "source": [
    "# Generate detector frame mass posterior samples\n",
    "def generate_mz_posterior_samples(Mz, sigma = 0.1):\n",
    "    log_Mz_obs_mean = np.log(Mz) + sigma * norm_dist.rvs(len(Mz))\n",
    "    return np.array([np.exp(np.random.normal(Mz_obs_mean_samp, sigma, 1000)) for Mz_obs_mean_samp in log_Mz_obs_mean])"
   ]
  },
  {
   "cell_type": "code",
   "execution_count": 13,
   "metadata": {},
   "outputs": [
    {
     "name": "stderr",
     "output_type": "stream",
     "text": [
      "/Users/thomas.ng/Documents/GitHub/pop_models_lvk/population_models/mass.py:29: RuntimeWarning: divide by zero encountered in power\n",
      "  p = m**-alpha * (alpha-1.)/(mmin**(1.-alpha)-mmax**(1.-alpha))\n",
      "/Users/thomas.ng/Documents/GitHub/pop_models_lvk/population_models/mass.py:10: RuntimeWarning: overflow encountered in exp\n",
      "  p[idx]       = 1./(1.+np.exp(exponent))\n"
     ]
    }
   ],
   "source": [
    "Mz_max = 100\n",
    "n_draws_event = 2000\n",
    "\n",
    "Mz_sample = generate_true_mz(n_draws_event)\n",
    "posterior = generate_mz_posterior_samples(Mz_sample[np.random.uniform(0,1,len(Mz_sample)) < Mz_sample/Mz_max])"
   ]
  },
  {
   "cell_type": "code",
   "execution_count": 14,
   "metadata": {},
   "outputs": [],
   "source": [
    "np.savetxt('test_2/data/mz_true_samples.txt', Mz_sample)"
   ]
  },
  {
   "cell_type": "code",
   "execution_count": 15,
   "metadata": {},
   "outputs": [
    {
     "data": {
      "text/plain": [
       "(516, 1000)"
      ]
     },
     "execution_count": 15,
     "metadata": {},
     "output_type": "execute_result"
    }
   ],
   "source": [
    "posterior.shape"
   ]
  },
  {
   "cell_type": "code",
   "execution_count": 16,
   "metadata": {},
   "outputs": [],
   "source": [
    "for i,p in enumerate(posterior):\n",
    "    np.savetxt(f'test_2/data/mz_posterior_samples_{i+1}.txt', p)"
   ]
  }
 ],
 "metadata": {
  "kernelspec": {
   "display_name": "population",
   "language": "python",
   "name": "python3"
  },
  "language_info": {
   "codemirror_mode": {
    "name": "ipython",
    "version": 3
   },
   "file_extension": ".py",
   "mimetype": "text/x-python",
   "name": "python",
   "nbconvert_exporter": "python",
   "pygments_lexer": "ipython3",
   "version": "3.10.14"
  }
 },
 "nbformat": 4,
 "nbformat_minor": 2
}
