{
 "cells": [
  {
   "cell_type": "code",
   "execution_count": 1,
   "metadata": {},
   "outputs": [],
   "source": [
    "import numpy as np\n",
    "from figaro.utils import rejection_sampler\n",
    "from figaro.cosmology import Planck18 as Omega, dVdz_approx_planck18\n",
    "import matplotlib.pyplot as plt\n",
    "import os"
   ]
  },
  {
   "cell_type": "code",
   "execution_count": 2,
   "metadata": {},
   "outputs": [],
   "source": [
    "true_H0 = 70. # km/s/Mpc"
   ]
  },
  {
   "cell_type": "code",
   "execution_count": 3,
   "metadata": {},
   "outputs": [],
   "source": [
    "# Mass distribution\n",
    "from population_models.mass import plpeak\n",
    "\n",
    "# Luminoisty distance distribution\n",
    "dL_max = 5000\n",
    "def dLsq(dL):\n",
    "    return 3*dL**2/dL_max**3"
   ]
  },
  {
   "cell_type": "code",
   "execution_count": 4,
   "metadata": {},
   "outputs": [],
   "source": [
    "# Generate true detector frame mass samples\n",
    "def generate_true_mz(n_SE_draws):\n",
    "    M  = rejection_sampler(n_SE_draws, plpeak, [0,200])\n",
    "    dL = rejection_sampler(n_SE_draws, dLsq, [0,dL_max])\n",
    "    z = Omega.Redshift(dL)\n",
    "    return np.array([M * (1 + z), dL]).T"
   ]
  },
  {
   "cell_type": "code",
   "execution_count": 5,
   "metadata": {},
   "outputs": [],
   "source": [
    "# Generate detector frame mass posterior samples\n",
    "def generate_posterior_samples(truth, sigma = 0.1, n_samples = 1000):\n",
    "    log_obs_mean = np.log(truth) + np.random.normal(0, sigma, truth.shape) # shape = (n_events, n_params)\n",
    "    return np.exp(np.random.normal(log_obs_mean, sigma, (n_samples, truth.shape[0], truth.shape[1]))).transpose(1,2,0) # shape = (n_events, n_params, n_samples)"
   ]
  },
  {
   "cell_type": "code",
   "execution_count": 6,
   "metadata": {},
   "outputs": [
    {
     "name": "stderr",
     "output_type": "stream",
     "text": [
      "/Users/thomas.ng/Documents/GitHub/pop_models_lvk/population_models/mass.py:29: RuntimeWarning: divide by zero encountered in power\n",
      "  p = m**-alpha * (alpha-1.)/(mmin**(1.-alpha)-mmax**(1.-alpha))\n",
      "/Users/thomas.ng/Documents/GitHub/pop_models_lvk/population_models/mass.py:10: RuntimeWarning: overflow encountered in exp\n",
      "  p[idx]       = 1./(1.+np.exp(exponent))\n"
     ]
    },
    {
     "data": {
      "text/plain": [
       "((5000, 2), (152, 2, 1000))"
      ]
     },
     "execution_count": 6,
     "metadata": {},
     "output_type": "execute_result"
    }
   ],
   "source": [
    "from selection_function import selection_function\n",
    "\n",
    "n_SE_draws = 5000\n",
    "outdir = 'hierarchical_SE_test_5'\n",
    "if not os.path.exists(outdir):\n",
    "    os.makedirs(outdir)\n",
    "\n",
    "samples = generate_true_mz(n_SE_draws)\n",
    "posterior = generate_posterior_samples(samples[np.random.uniform(0,1,samples.shape[0]) <= selection_function(samples)])\n",
    "\n",
    "samples.shape, posterior.shape"
   ]
  },
  {
   "cell_type": "code",
   "execution_count": 7,
   "metadata": {},
   "outputs": [],
   "source": [
    "np.savetxt(outdir+'/true_samples.txt', samples)"
   ]
  },
  {
   "cell_type": "code",
   "execution_count": 8,
   "metadata": {},
   "outputs": [
    {
     "data": {
      "text/plain": [
       "array([ 147.13318334, 8670.41355312])"
      ]
     },
     "execution_count": 8,
     "metadata": {},
     "output_type": "execute_result"
    }
   ],
   "source": [
    "posterior.max(axis=(0,2))"
   ]
  },
  {
   "cell_type": "code",
   "execution_count": 9,
   "metadata": {},
   "outputs": [],
   "source": [
    "np.savetxt(outdir+'/jsd_bounds.txt', np.array([np.median(posterior, axis=2).min(axis=0), np.median(posterior, axis=2).max(axis=0)]).transpose())"
   ]
  },
  {
   "cell_type": "code",
   "execution_count": 10,
   "metadata": {},
   "outputs": [],
   "source": [
    "if not os.path.exists(outdir+'/data'):\n",
    "    os.makedirs(outdir+'/data')\n",
    "for i,p in enumerate(posterior):\n",
    "    np.savetxt(f'{outdir}/data/posterior_samples_{i+1}.txt', p.T)"
   ]
  }
 ],
 "metadata": {
  "kernelspec": {
   "display_name": "population",
   "language": "python",
   "name": "python3"
  },
  "language_info": {
   "codemirror_mode": {
    "name": "ipython",
    "version": 3
   },
   "file_extension": ".py",
   "mimetype": "text/x-python",
   "name": "python",
   "nbconvert_exporter": "python",
   "pygments_lexer": "ipython3",
   "version": "3.10.14"
  }
 },
 "nbformat": 4,
 "nbformat_minor": 2
}
