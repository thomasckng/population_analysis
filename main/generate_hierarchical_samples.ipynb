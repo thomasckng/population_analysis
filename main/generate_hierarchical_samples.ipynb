{
 "cells": [
  {
   "cell_type": "code",
   "execution_count": 94,
   "metadata": {},
   "outputs": [],
   "source": [
    "import numpy as np\n",
    "from figaro.utils import rejection_sampler\n",
    "from figaro.cosmology import Planck18 as Omega, dVdz_approx_planck18\n",
    "import matplotlib.pyplot as plt"
   ]
  },
  {
   "cell_type": "code",
   "execution_count": 95,
   "metadata": {},
   "outputs": [],
   "source": [
    "true_H0 = 70. # km/s/Mpc"
   ]
  },
  {
   "cell_type": "code",
   "execution_count": 96,
   "metadata": {},
   "outputs": [],
   "source": [
    "# Mass distribution\n",
    "from population_models.mass import plpeak"
   ]
  },
  {
   "cell_type": "code",
   "execution_count": 97,
   "metadata": {},
   "outputs": [],
   "source": [
    "# Generate true detector frame mass samples\n",
    "def generate_true_mz(n_SE_draws):\n",
    "    M  = rejection_sampler(n_SE_draws, plpeak, [0,200])\n",
    "    z  = rejection_sampler(n_SE_draws, lambda z: dVdz_approx_planck18(z)*np.exp(-z/0.1)/(1+z), [0, 0.5])\n",
    "    # z  = rejection_sampler(n_SE_draws, lambda z: dVdz_approx_planck18(z)/(1+z), [0, 2])\n",
    "    dL = Omega.LuminosityDistance(z)\n",
    "    return np.array([M * (1 + z), dL]).T"
   ]
  },
  {
   "cell_type": "code",
   "execution_count": 98,
   "metadata": {},
   "outputs": [],
   "source": [
    "# Generate detector frame mass posterior samples\n",
    "def generate_posterior_samples(truth, sigma = 0.1, n_samples = 1000):\n",
    "    log_obs_mean = np.log(truth) + np.random.normal(0, sigma, truth.shape) # shape = (n_events, n_params)\n",
    "    return np.exp(np.random.normal(log_obs_mean, sigma, (n_samples, truth.shape[0], truth.shape[1]))).transpose(1,2,0) # shape = (n_events, n_params, n_samples)"
   ]
  },
  {
   "cell_type": "code",
   "execution_count": 99,
   "metadata": {},
   "outputs": [
    {
     "data": {
      "text/plain": [
       "((1000, 2), (245, 2, 1000))"
      ]
     },
     "execution_count": 99,
     "metadata": {},
     "output_type": "execute_result"
    }
   ],
   "source": [
    "from selection_function import selection_function\n",
    "\n",
    "n_SE_draws = 1000\n",
    "outdir = 'hierarchical_SE_test_3'\n",
    "\n",
    "samples = generate_true_mz(n_SE_draws)\n",
    "posterior = generate_posterior_samples(samples[np.random.uniform(0,1,samples.shape[0]) <= selection_function(samples)])\n",
    "\n",
    "samples.shape, posterior.shape"
   ]
  },
  {
   "cell_type": "code",
   "execution_count": 100,
   "metadata": {},
   "outputs": [],
   "source": [
    "np.savetxt(outdir+'/true_samples.txt', samples)"
   ]
  },
  {
   "cell_type": "code",
   "execution_count": 101,
   "metadata": {},
   "outputs": [
    {
     "data": {
      "text/plain": [
       "array([ 145.42364148, 3897.67898786])"
      ]
     },
     "execution_count": 101,
     "metadata": {},
     "output_type": "execute_result"
    }
   ],
   "source": [
    "posterior.max(axis=(0,2))"
   ]
  },
  {
   "cell_type": "code",
   "execution_count": 102,
   "metadata": {},
   "outputs": [],
   "source": [
    "np.savetxt(outdir+'/jsd_bounds.txt', np.array([np.median(posterior, axis=2).min(axis=0), np.median(posterior, axis=2).max(axis=0)]).transpose())"
   ]
  },
  {
   "cell_type": "code",
   "execution_count": 103,
   "metadata": {},
   "outputs": [],
   "source": [
    "import os\n",
    "if not os.path.exists(outdir+'/data'):\n",
    "    os.makedirs(outdir+'/data')\n",
    "for i,p in enumerate(posterior):\n",
    "    np.savetxt(f'{outdir}/data/posterior_samples_{i+1}.txt', p.T)"
   ]
  }
 ],
 "metadata": {
  "kernelspec": {
   "display_name": "population",
   "language": "python",
   "name": "python3"
  },
  "language_info": {
   "codemirror_mode": {
    "name": "ipython",
    "version": 3
   },
   "file_extension": ".py",
   "mimetype": "text/x-python",
   "name": "python",
   "nbconvert_exporter": "python",
   "pygments_lexer": "ipython3",
   "version": "3.10.14"
  }
 },
 "nbformat": 4,
 "nbformat_minor": 2
}
