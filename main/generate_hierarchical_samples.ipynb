{
 "cells": [
  {
   "cell_type": "code",
   "execution_count": 8,
   "metadata": {},
   "outputs": [],
   "source": [
    "import numpy as np\n",
    "from scipy.stats import norm\n",
    "from figaro.utils import rejection_sampler\n",
    "from figaro.cosmology import CosmologicalParameters\n",
    "import matplotlib.pyplot as plt"
   ]
  },
  {
   "cell_type": "code",
   "execution_count": 9,
   "metadata": {},
   "outputs": [],
   "source": [
    "true_H0 = 70. # km/s/Mpc\n",
    "Omega = CosmologicalParameters(true_H0/100., 0.315, 0.685, -1., 0., 0.)\n",
    "norm_dist = norm()"
   ]
  },
  {
   "cell_type": "code",
   "execution_count": 10,
   "metadata": {},
   "outputs": [],
   "source": [
    "# Mass distribution\n",
    "from population_models.mass import plpeak\n",
    "\n",
    "# dL distributions\n",
    "# @njit\n",
    "def dLsq(DL, DLmax = 5000):\n",
    "    return 3*DL**2/DLmax**3"
   ]
  },
  {
   "cell_type": "code",
   "execution_count": 11,
   "metadata": {},
   "outputs": [],
   "source": [
    "# Generate true detector frame mass samples\n",
    "def generate_true_mz(n_draws_event):\n",
    "    dL = rejection_sampler(n_draws_event, dLsq, [0, 5000])\n",
    "    M  = rejection_sampler(n_draws_event, plpeak, [0,200])\n",
    "    z  = Omega.Redshift(dL)\n",
    "    return M * (1 + z)"
   ]
  },
  {
   "cell_type": "code",
   "execution_count": 12,
   "metadata": {},
   "outputs": [],
   "source": [
    "# Generate detector frame mass posterior samples\n",
    "def generate_mz_posterior_samples(Mz, sigma = 0.1):\n",
    "    log_Mz_obs_mean = np.log(Mz) + sigma * norm_dist.rvs(len(Mz))\n",
    "    return np.array([np.exp(np.random.normal(Mz_obs_mean_samp, sigma, 1000)) for Mz_obs_mean_samp in log_Mz_obs_mean])"
   ]
  },
  {
   "cell_type": "code",
   "execution_count": 20,
   "metadata": {},
   "outputs": [],
   "source": [
    "from selection_function import selection_function\n",
    "\n",
    "Mz_max = 100\n",
    "n_draws_event = 2000\n",
    "outdir = 'test_3'\n",
    "\n",
    "Mz_sample = generate_true_mz(n_draws_event)\n",
    "posterior = generate_mz_posterior_samples(Mz_sample[np.random.uniform(0,1,len(Mz_sample)) <= selection_function(Mz_sample)])"
   ]
  },
  {
   "cell_type": "code",
   "execution_count": 19,
   "metadata": {},
   "outputs": [],
   "source": [
    "np.savetxt(outdir+'/mz_true_samples.txt', Mz_sample)"
   ]
  },
  {
   "cell_type": "code",
   "execution_count": 8,
   "metadata": {},
   "outputs": [
    {
     "data": {
      "text/plain": [
       "(348, 1000)"
      ]
     },
     "execution_count": 8,
     "metadata": {},
     "output_type": "execute_result"
    }
   ],
   "source": [
    "posterior.shape"
   ]
  },
  {
   "cell_type": "code",
   "execution_count": 10,
   "metadata": {},
   "outputs": [
    {
     "data": {
      "text/plain": [
       "279.488836967778"
      ]
     },
     "execution_count": 10,
     "metadata": {},
     "output_type": "execute_result"
    }
   ],
   "source": [
    "posterior.max()"
   ]
  },
  {
   "cell_type": "code",
   "execution_count": 18,
   "metadata": {},
   "outputs": [],
   "source": [
    "for i,p in enumerate(posterior):\n",
    "    np.savetxt(f'{outdir}/data/mz_posterior_samples_{i+1}.txt', p)"
   ]
  }
 ],
 "metadata": {
  "kernelspec": {
   "display_name": "population",
   "language": "python",
   "name": "python3"
  },
  "language_info": {
   "codemirror_mode": {
    "name": "ipython",
    "version": 3
   },
   "file_extension": ".py",
   "mimetype": "text/x-python",
   "name": "python",
   "nbconvert_exporter": "python",
   "pygments_lexer": "ipython3",
   "version": "3.10.14"
  }
 },
 "nbformat": 4,
 "nbformat_minor": 2
}
